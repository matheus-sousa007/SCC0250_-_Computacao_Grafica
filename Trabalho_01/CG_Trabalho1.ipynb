{
 "cells": [
  {
   "cell_type": "markdown",
   "metadata": {},
   "source": [
    "# Projeto Prático 1 - Visualização de Malhas\n",
    "\n",
    "Alunos:\n",
    " - Matheus Ventura de Sousa - 11345541\n",
    " - Luisa Balleroni          - "
   ]
  },
  {
   "cell_type": "markdown",
   "metadata": {},
   "source": [
    "# 1. Introdução"
   ]
  },
  {
   "cell_type": "markdown",
   "metadata": {},
   "source": [
    "O objetivo deste notebook é apresentar o uso do módulo `Polyscope` da linguagem de Programação Python para renderizar imagens formadas por núvens de pontos. Neste trabalho, será construída uma núvem de pontos para renderizar uma imagem a partir dela. Além disso, é possível usar uma função `callback` para realizar animações visto que a imagem possui uma taxa de atualização. A função callback está definida na seçao <b>1.2. Códigos Auxiliares</b>."
   ]
  },
  {
   "cell_type": "markdown",
   "metadata": {},
   "source": [
    "## 1.1 Módulos necessários"
   ]
  },
  {
   "cell_type": "code",
   "execution_count": null,
   "metadata": {},
   "outputs": [],
   "source": [
    "# If you run in colab, run this cell\n",
    "%%writefile requirements.txt\n",
    "\n",
    "igl\n",
    "numpy\n",
    "polyscope"
   ]
  },
  {
   "cell_type": "code",
   "execution_count": 1,
   "metadata": {},
   "outputs": [],
   "source": [
    "import igl\n",
    "import time\n",
    "import subprocess\n",
    "import numpy as np\n",
    "import polyscope as ps\n",
    "from __future__ import annotations"
   ]
  },
  {
   "cell_type": "markdown",
   "metadata": {},
   "source": [
    "## 2 Implementação das transformações"
   ]
  },
  {
   "cell_type": "markdown",
   "metadata": {},
   "source": [
    "O Código abaixo define uma classe `Mesh` usada para encapsular os objetos renderizados pelo `polyscope`. Neste código estão definidas as transformações de `translação`, `rotação`, `escala`, `espelhamento` e `cisalhamento`.\n",
    "\n",
    "A operação de `translação` tem o objetivo de deslocar o objeto de um lugar para o outro dentro do sistema de coordenadas do mundo. Para estabelecer os novos pontos transladados, usa-se a seguinte matriz:\n",
    "\n",
    "$$ T(t_x, t_y, t_z) = \\begin{bmatrix} \n",
    "    1 & 0 & 0 & t_x \\\\\n",
    "    0 & 1 & 0 & t_y \\\\\n",
    "    0 & 0 & 1 & t_z \\\\\n",
    "    0 & 0 & 0 &   1 \\\\\n",
    "\\end{bmatrix} $$\n",
    "\n",
    "Onde $t_x, t_y, t_z \\in \\mathbb{R}$ são coeficientes de translação dos eixos $x, y$ e $z$ respectivamente.\n",
    "\n",
    "Como o próprio nome diz, a operação de `rotação` rotaciona os pontos dentro do sistema de coordenadas do mundo. Como a rotação é definida dependendo do eixo fixado, foi estabelecida uma nova forma de rotacionar para este trabalho. Considere $x, y$ e $z$ variáveis booleanas que definem se o eixo está fixado na operação. Assim, a partir da definição condicional da rotação, podemos chegar em uma definição genérica:\n",
    "\n",
    "$$\n",
    "R(x, y, z, \\theta) = \n",
    "\\begin{bmatrix}\n",
    "    x + \\cos(\\theta) (y+z) & \\sin(\\theta) * (-z)     & \\sin(\\theta) * (y)     & 0 \\\\\n",
    "    \\sin(\\theta) * (z)     & y + \\cos(\\theta) *(x+z) & \\sin(\\theta) * (-x)    & 0 \\\\\n",
    "    \\sin(\\theta) * (-y)    & \\sin(\\theta) * (x)      & z + \\cos(\\theta) (x+y) & 0 \\\\\n",
    "    0                      & 0                       & 0                      & 1\n",
    "\\end{bmatrix}\n",
    "$$\n",
    "\n",
    "Onde $x + y + z = 1$. Observe que, ao fixar qualquer uma das componentes, obtem-se a rotação relativa tal componente fixada!\n",
    "\n",
    "A transformação em `escala` tem o objetivo de alterar o tamanho do objeto renderizado. Segue a matriz definida para a operação de escala:\n",
    "\n",
    "$$\n",
    "S(s_x, s_y, s_z) = \n",
    "\\begin{bmatrix}\n",
    "    s_x & 0   & 0   & 0 \\\\\n",
    "    0   & s_y & 0   & 0 \\\\\n",
    "    0   & 0   & s_z & 0 \\\\\n",
    "    0   & 0   & 0   & 1\n",
    "\\end{bmatrix}\n",
    "$$\n",
    "\n",
    "O `espelhamento` realiza a inversão de coordenadas comparado ao sistema de coordenadas do mundo. O espelhamento do objeto também depende da coordenada a ser fixada. Visto isso, também será apresentada uma solução genérica para o caso. Considere $x, y$ e $z$ variáveis binárias tal que $x, y, z = 1$ ou $-1$ e que $x + y + z = 1$. A componente fixada deve ser marcada com o valor $-1$. Assim, podemos chegar na seguinte matriz:\n",
    "\n",
    "Para espelhar, utiliza-se a seguinte matriz:\n",
    "\n",
    "$$\n",
    "E(x, y, z) = \n",
    "\\begin{bmatrix}\n",
    "    x & 0 & 0 & 0 \\\\\n",
    "    0 & y & 0 & 0 \\\\\n",
    "    0 & 0 & z & 0 \\\\\n",
    "    0 & 0 & 0 & 1\n",
    "\\end{bmatrix}\n",
    "$$\n",
    "\n",
    "Para finalizar, a operação de `cisalhamento` reduz a dimensão do objeto para a coordenada de referência em um ponto desejado dentro do sistema de coordenadas do mundo. Seus parâmetros são referentes aos coeficientes de `cisalhamento` para cada par de eixos i,j $(sh_{ij})$. Novamente, esta operação também depende de uma referência, então será apresentada uma solução genérica. Considere $x, y$ e $z$ variáveis binárias tal que $x, y, z = 0$ ou $1$ e $x + y + z = 1$. Dessa forma, a matriz de `cisalhamento` obtem o seguinte padrão:\n",
    "\n",
    "$$\n",
    "Sh(x, y, z) =\n",
    "\\begin{bmatrix}\n",
    "    1               & sh_{yx} \\cdot y  & sh_{zx} \\cdot z & -(sh_{yx} \\cdot y \\cdot y_{ref} + sh_{zx} \\cdot z \\cdot z_{ref}) \\\\\n",
    "    sh_{xy} \\cdot x & 1                & sh_{zy} \\cdot z & -(sh_{xy} \\cdot x \\cdot x_{ref} + sh_{zy} \\cdot z \\cdot z_{ref}) \\\\\n",
    "    sh_{xz} \\cdot x & sh_{yz} \\cdot y  & 1               & -(sh_{xz} \\cdot x \\cdot x_{ref} + sh_{yz} \\cdot y \\cdot y_{ref}) \\\\\n",
    "    0               & 0                & 0               & 1                                                                \\\\\n",
    "\\end{bmatrix}\n",
    "\n",
    "$$"
   ]
  },
  {
   "cell_type": "code",
   "execution_count": 2,
   "metadata": {},
   "outputs": [],
   "source": [
    "class Mesh:\n",
    "    def __init__(self, vertices: np.ndarray, faces: np.ndarray, mesh_name: str) -> None:\n",
    "        self.faces = faces\n",
    "        self.vertices = vertices\n",
    "        self.mesh_name = mesh_name\n",
    "        self.mesh_object = ps.register_surface_mesh(mesh_name, vertices, faces) if mesh_name != \"\" else None\n",
    "\n",
    "    def translate(self, tx: float, ty: float, tz: float, mesh_name: str) -> Mesh:\n",
    "        points = np.vstack((\n",
    "            np.hstack((self.vertices, np.ones((self.vertices.shape[0], 1)))), \n",
    "            np.ones((1, self.vertices.shape[1]+1))\n",
    "        )).T\n",
    "\n",
    "        translation = np.array([\n",
    "                [1, 0, 0, tx],\n",
    "                [0, 1, 0, ty],\n",
    "                [0, 0, 1, tz],\n",
    "                [0, 0, 0,  1]\n",
    "            ])\n",
    "\n",
    "        return Mesh((translation @ points).T[:-1, :-1], self.faces, mesh_name)\n",
    "\n",
    "    def rotate(self, fixed_axis: str, theta: float, mesh_name: str) -> Mesh:\n",
    "        x, y, z = int(fixed_axis == 'x'), int(fixed_axis == 'y'), int(fixed_axis == 'z')\n",
    "\n",
    "        points = np.vstack((\n",
    "            np.hstack((self.vertices, np.ones((self.vertices.shape[0], 1)))), \n",
    "            np.ones((1, self.vertices.shape[1]+1))\n",
    "        )).T\n",
    "\n",
    "        rotation = np.array([\n",
    "            [1*x + np.cos(theta) * (y+z), np.sin(theta) * (-z), np.sin(theta) * (y), 0],\n",
    "            [np.sin(theta) * (z), 1*y + np.cos(theta) * (x+z), np.sin(theta) * (-x), 0],\n",
    "            [np.sin(theta) * (-y), np.sin(theta) * (x), 1*z + np.cos(theta) * (x+y), 0],\n",
    "            [                  0,                    0,                           0, 1]\n",
    "        ])\n",
    "\n",
    "        return Mesh((rotation @ points).T[:-1, :-1], self.faces, mesh_name)\n",
    "    \n",
    "\n",
    "    def scale(self, sx:float, sy: float, sz: float, mesh_name: str) -> Mesh:\n",
    "        points = np.vstack((\n",
    "            np.hstack((self.vertices, np.ones((self.vertices.shape[0], 1)))), \n",
    "            np.ones((1, self.vertices.shape[1]+1))\n",
    "        )).T\n",
    "\n",
    "        scale = np.array([\n",
    "            [sx,  0,  0, 0],\n",
    "            [ 0, sy,  0, 0],\n",
    "            [ 0,  0, sz, 0],\n",
    "            [ 0,  0,  0, 1]\n",
    "        ])\n",
    "\n",
    "        return Mesh((scale @ points).T[:-1, :-1], self.faces, mesh_name)\n",
    "\n",
    "    def reflect(self, inversion_axis: str, mesh_name: str) -> Mesh:\n",
    "        points = np.vstack((\n",
    "            np.hstack((self.vertices, np.ones((self.vertices.shape[0], 1)))), \n",
    "            np.ones((1, self.vertices.shape[1]+1))\n",
    "        )).T\n",
    "\n",
    "        reflection = np.zeros((4,4))\n",
    "        np.fill_diagonal(reflection, np.array([-1, 1, 1, 1] if inversion_axis == 'x' else [1, -1, 1, 1] if inversion_axis == 'y' else [1, 1, -1, 1]))\n",
    "\n",
    "        return Mesh((reflection @ points).T[:-1, :-1], self.faces, mesh_name)\n",
    "    \n",
    "    def shear(self, mesh_name:str, **kwargs) -> Mesh:\n",
    "        \"\"\"\n",
    "        Esta função aplica uma transformação de cisalhamento em um conjunto de pontos 3D.\n",
    "        Dependendo do eixo de referência, é necessário passar parâmetros adicionais.\n",
    "rotate\n",
    "        Params:\n",
    "            - reference_axis: strxz\n",
    "                Eixo de referência da transformação. Pode ser: 'x', 'y' ou 'z'.\n",
    "            - sh_ij (i, j = {x, y, z} e i != j): float\n",
    "                Fatores de cisalhamento entre os eixos i e j.\n",
    "            - x_ref, y_ref, z_ref: float\n",
    "                Ponto de referência do eixo de referência.\n",
    "\n",
    "        Returns:\n",
    "            - Mesh: Objeto Mesh com os pontos transformados. \n",
    "        \"\"\"\n",
    "\n",
    "        reference_axis = kwargs.get('reference_axis', 'z')\n",
    "        x, y, z = int(reference_axis == 'x'), int(reference_axis == 'y'), int(reference_axis == 'z') \n",
    "        sh_xz, sh_xy, x_ref = (kwargs.get('sh_xz', 0), kwargs.get('sh_xy', 0), kwargs.get('x_ref', 0))\n",
    "        sh_yx, sh_yz, y_ref = (kwargs.get('sh_yx', 0), kwargs.get('sh_yz', 0), kwargs.get('y_ref', 0))\n",
    "        sh_zx, sh_zy, z_ref = (kwargs.get('sh_zx', 0), kwargs.get('sh_zy', 0), kwargs.get('z_ref', 0)) \n",
    "\n",
    "        points = np.vstack((\n",
    "            np.hstack((self.vertices, np.ones((self.vertices.shape[0], 1)))), \n",
    "            np.ones((1, self.vertices.shape[1]+1))\n",
    "        )).T\n",
    "\n",
    "        shear = np.array([\n",
    "            [        1, sh_yx * y, sh_zx * z, -(sh_yx * y * y_ref + sh_zx * z * z_ref)],\n",
    "            [sh_xy * x,         1, sh_zy * z, -(sh_xy * x * x_ref + sh_zy * z * z_ref)],\n",
    "            [sh_xz * x, sh_yz * y,         1, -(sh_xz * x * x_ref + sh_yz * y * y_ref)],\n",
    "            [        0,         0,         0,                                        1]\n",
    "        ])\n",
    "\n",
    "        return Mesh((shear @ points).T[:-1, :-1], self.faces, mesh_name)"
   ]
  },
  {
   "cell_type": "markdown",
   "metadata": {},
   "source": [
    "# 3. Aplicação da Implementação"
   ]
  },
  {
   "cell_type": "markdown",
   "metadata": {},
   "source": [
    "## 3.1 Carregamento dos Meshs"
   ]
  },
  {
   "cell_type": "markdown",
   "metadata": {},
   "source": [
    "Inicialmente, faremos o carregamento dos meshs armazenados em arquivos `.obj` localizados na pasta `./meshes`. Os nomes dos arquivos serão buscados via o comando. Para isso, usaremos o módulo Python `igl`. Cada mesh terá as variações transladadas, rotacionadas, escaladas, refletidas e cisalhadas."
   ]
  },
  {
   "cell_type": "code",
   "execution_count": 5,
   "metadata": {},
   "outputs": [
    {
     "name": "stdout",
     "output_type": "stream",
     "text": [
      "['./meshes/FinalBaseMesh.obj', './meshes/indoor plant_02.obj', './meshes/Rmk3.obj']\n"
     ]
    },
    {
     "name": "stderr",
     "output_type": "stream",
     "text": [
      "Warning: readOBJ() ignored non-comment line 4:\n",
      "  o indoor_plant_02\n",
      "Warning: readOBJ() ignored non-comment line 96544:\n",
      "  o Plane_Plane.001\n"
     ]
    }
   ],
   "source": [
    "# Carregamento dos Meshs\n",
    "ps.init()\n",
    "\n",
    "result = subprocess.run(\"find . -iname '*.obj'\", capture_output=True, shell=True)\n",
    "\n",
    "mesh_files = result.stdout.decode('utf-8').split('\\n')[:-1]\n",
    "stderr = result.stderr.decode('utf-8').split('\\n')\n",
    "\n",
    "print(mesh_files)\n",
    "\n",
    "meshes = []\n",
    "\n",
    "for i, mesh_file in enumerate(mesh_files):\n",
    "    vertices, _, _, faces, _, _ = igl.read_obj(mesh_file)\n",
    "\n",
    "    mesh = Mesh(vertices, faces, \"\").scale(0.1, 0.1, 0.1, \"\").translate(-20, 0, i*30, \"\") \\\n",
    "           if mesh_file.find(\"Rmk3\") > 0 else Mesh(vertices, faces, \"\").translate(-20, 0, i*30, mesh_file.replace('.obj', ''))\n",
    "    \n",
    "    rotated_mesh = mesh.translate(20, 0, 0, \"\").rotate('y', np.pi/3, mesh_file.replace('.obj', '') + \"2\")\n",
    "    scaled_mesh = mesh.translate(40, 0, 0, \"\").scale(0.3, 0.3, 0.3, mesh_file.replace('.obj', '') + \"3\") if mesh_file.find(\"Rmk3\") > 0 \\\n",
    "                  else mesh.translate(60, 0, 0, \"\").scale(0.7, 0.7, 0.7, mesh_file.replace('.obj', '') + \"3\")\n",
    "    reflected_mesh = mesh.reflect('y', mesh_file.replace('.obj', '') + \"4\")\n",
    "    sheared_mesh = rotated_mesh.shear(mesh_file.replace('.obj', '') + \"5\", reference_axis='y', sh_yx=2, sh_yz=0, y_ref=0)\n",
    "\n",
    "    meshes.append([mesh, rotated_mesh, scaled_mesh, reflected_mesh, sheared_mesh])\n",
    "\n",
    "ps.show()"
   ]
  },
  {
   "cell_type": "markdown",
   "metadata": {},
   "source": [
    "Também é possível armazenar a renderização em uma imagem `.png` ou `.jpg`, como faz a celula a seguir:"
   ]
  },
  {
   "cell_type": "code",
   "execution_count": 6,
   "metadata": {},
   "outputs": [],
   "source": [
    "OUTPUT_PATH = \"./images/polyscope_image.png\"\n",
    "\n",
    "_ = subprocess.run(\"mkdir -p images\", capture_output=True, shell=True)\n",
    "ps.look_at((250, 100, 250), (50, 0,30))\n",
    "ps.screenshot(filename=OUTPUT_PATH, transparent_bg=True)"
   ]
  },
  {
   "cell_type": "markdown",
   "metadata": {},
   "source": [
    "# 4. Conclusão"
   ]
  },
  {
   "cell_type": "markdown",
   "metadata": {},
   "source": [
    "O presente trabalho apresentou como o módulo `polyscope` é usado e como são aplicadas as principais transformações em cima das malhas importadas. Um ponto importante foi a conclusão de matrizes genéricas para a implementação das transformações `rotação` e `cisalhamento`, visto que houve grande simplificação para as funções. Além disso, foi importante para compreender como as transformações afetam as malhas de maneira intuitiva. "
   ]
  }
 ],
 "metadata": {
  "kernelspec": {
   "display_name": "Python 3",
   "language": "python",
   "name": "python3"
  },
  "language_info": {
   "codemirror_mode": {
    "name": "ipython",
    "version": 3
   },
   "file_extension": ".py",
   "mimetype": "text/x-python",
   "name": "python",
   "nbconvert_exporter": "python",
   "pygments_lexer": "ipython3",
   "version": "3.11.2"
  }
 },
 "nbformat": 4,
 "nbformat_minor": 2
}
